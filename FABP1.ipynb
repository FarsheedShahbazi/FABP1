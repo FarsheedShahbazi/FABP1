{
 "cells": [
  {
   "cell_type": "code",
   "execution_count": 1,
   "id": "ca246116",
   "metadata": {},
   "outputs": [
    {
     "data": {
      "text/html": [
       "<div>\n",
       "<style scoped>\n",
       "    .dataframe tbody tr th:only-of-type {\n",
       "        vertical-align: middle;\n",
       "    }\n",
       "\n",
       "    .dataframe tbody tr th {\n",
       "        vertical-align: top;\n",
       "    }\n",
       "\n",
       "    .dataframe thead th {\n",
       "        text-align: right;\n",
       "    }\n",
       "</style>\n",
       "<table border=\"1\" class=\"dataframe\">\n",
       "  <thead>\n",
       "    <tr style=\"text-align: right;\">\n",
       "      <th></th>\n",
       "      <th>ligand name</th>\n",
       "      <th>Ki(nm)</th>\n",
       "      <th>Log(Ki)</th>\n",
       "      <th>Log(O/W)</th>\n",
       "      <th>CNS</th>\n",
       "      <th>QPlogS</th>\n",
       "      <th>mol_MW</th>\n",
       "      <th>QPlogBB</th>\n",
       "      <th>QPlogKhsa</th>\n",
       "      <th>PSA</th>\n",
       "      <th>IFD</th>\n",
       "      <th>MMGBSA</th>\n",
       "    </tr>\n",
       "  </thead>\n",
       "  <tbody>\n",
       "    <tr>\n",
       "      <th>0</th>\n",
       "      <td>THC</td>\n",
       "      <td>1000</td>\n",
       "      <td>3.000000</td>\n",
       "      <td>5.64</td>\n",
       "      <td>0</td>\n",
       "      <td>-6.672</td>\n",
       "      <td>314.467</td>\n",
       "      <td>-0.103</td>\n",
       "      <td>1.225</td>\n",
       "      <td>25.949</td>\n",
       "      <td>-8.925</td>\n",
       "      <td>-47.6959</td>\n",
       "    </tr>\n",
       "    <tr>\n",
       "      <th>1</th>\n",
       "      <td>CBD</td>\n",
       "      <td>167</td>\n",
       "      <td>2.222716</td>\n",
       "      <td>5.38</td>\n",
       "      <td>0</td>\n",
       "      <td>-6.155</td>\n",
       "      <td>314.467</td>\n",
       "      <td>-0.474</td>\n",
       "      <td>1.066</td>\n",
       "      <td>38.177</td>\n",
       "      <td>-9.419</td>\n",
       "      <td>-49.6266</td>\n",
       "    </tr>\n",
       "    <tr>\n",
       "      <th>2</th>\n",
       "      <td>BMS-309403</td>\n",
       "      <td>21</td>\n",
       "      <td>1.322219</td>\n",
       "      <td>5.64</td>\n",
       "      <td>-1</td>\n",
       "      <td>-7.770</td>\n",
       "      <td>474.558</td>\n",
       "      <td>-0.873</td>\n",
       "      <td>1.479</td>\n",
       "      <td>74.587</td>\n",
       "      <td>-13.865</td>\n",
       "      <td>-62.9611</td>\n",
       "    </tr>\n",
       "    <tr>\n",
       "      <th>3</th>\n",
       "      <td>AM-404</td>\n",
       "      <td>29</td>\n",
       "      <td>1.462398</td>\n",
       "      <td>6.87</td>\n",
       "      <td>-2</td>\n",
       "      <td>-8.354</td>\n",
       "      <td>395.584</td>\n",
       "      <td>-1.669</td>\n",
       "      <td>1.338</td>\n",
       "      <td>57.795</td>\n",
       "      <td>-12.450</td>\n",
       "      <td>-56.3212</td>\n",
       "    </tr>\n",
       "    <tr>\n",
       "      <th>4</th>\n",
       "      <td>SCPI4</td>\n",
       "      <td>33</td>\n",
       "      <td>1.518514</td>\n",
       "      <td>4.47</td>\n",
       "      <td>2</td>\n",
       "      <td>-5.339</td>\n",
       "      <td>363.550</td>\n",
       "      <td>0.585</td>\n",
       "      <td>0.365</td>\n",
       "      <td>28.937</td>\n",
       "      <td>-11.105</td>\n",
       "      <td>NaN</td>\n",
       "    </tr>\n",
       "    <tr>\n",
       "      <th>5</th>\n",
       "      <td>VDM11</td>\n",
       "      <td>37</td>\n",
       "      <td>1.568202</td>\n",
       "      <td>7.14</td>\n",
       "      <td>-2</td>\n",
       "      <td>-8.041</td>\n",
       "      <td>409.611</td>\n",
       "      <td>-1.572</td>\n",
       "      <td>1.512</td>\n",
       "      <td>55.703</td>\n",
       "      <td>-11.534</td>\n",
       "      <td>-54.3661</td>\n",
       "    </tr>\n",
       "    <tr>\n",
       "      <th>6</th>\n",
       "      <td>OMDM-2</td>\n",
       "      <td>40</td>\n",
       "      <td>1.602060</td>\n",
       "      <td>5.51</td>\n",
       "      <td>-2</td>\n",
       "      <td>-5.904</td>\n",
       "      <td>431.657</td>\n",
       "      <td>-2.188</td>\n",
       "      <td>0.564</td>\n",
       "      <td>77.057</td>\n",
       "      <td>-10.950</td>\n",
       "      <td>-59.7882</td>\n",
       "    </tr>\n",
       "    <tr>\n",
       "      <th>7</th>\n",
       "      <td>OMDM-1</td>\n",
       "      <td>40</td>\n",
       "      <td>1.602060</td>\n",
       "      <td>5.51</td>\n",
       "      <td>-2</td>\n",
       "      <td>-6.275</td>\n",
       "      <td>431.657</td>\n",
       "      <td>-2.111</td>\n",
       "      <td>0.558</td>\n",
       "      <td>70.412</td>\n",
       "      <td>-10.905</td>\n",
       "      <td>-59.0270</td>\n",
       "    </tr>\n",
       "    <tr>\n",
       "      <th>8</th>\n",
       "      <td>2-OG</td>\n",
       "      <td>40</td>\n",
       "      <td>1.602060</td>\n",
       "      <td>4.86</td>\n",
       "      <td>-2</td>\n",
       "      <td>-5.596</td>\n",
       "      <td>356.545</td>\n",
       "      <td>-2.210</td>\n",
       "      <td>0.497</td>\n",
       "      <td>77.892</td>\n",
       "      <td>-9.830</td>\n",
       "      <td>-48.6365</td>\n",
       "    </tr>\n",
       "    <tr>\n",
       "      <th>9</th>\n",
       "      <td>OEA</td>\n",
       "      <td>43</td>\n",
       "      <td>1.633468</td>\n",
       "      <td>4.46</td>\n",
       "      <td>-2</td>\n",
       "      <td>-4.708</td>\n",
       "      <td>325.534</td>\n",
       "      <td>-1.489</td>\n",
       "      <td>0.219</td>\n",
       "      <td>54.990</td>\n",
       "      <td>-9.810</td>\n",
       "      <td>-49.0593</td>\n",
       "    </tr>\n",
       "    <tr>\n",
       "      <th>10</th>\n",
       "      <td>JWH-018</td>\n",
       "      <td>58</td>\n",
       "      <td>1.763428</td>\n",
       "      <td>6.17</td>\n",
       "      <td>0</td>\n",
       "      <td>-6.220</td>\n",
       "      <td>341.452</td>\n",
       "      <td>-0.078</td>\n",
       "      <td>1.200</td>\n",
       "      <td>24.030</td>\n",
       "      <td>-11.400</td>\n",
       "      <td>-50.8677</td>\n",
       "    </tr>\n",
       "    <tr>\n",
       "      <th>11</th>\n",
       "      <td>2-AG</td>\n",
       "      <td>61</td>\n",
       "      <td>1.785330</td>\n",
       "      <td>5.34</td>\n",
       "      <td>-2</td>\n",
       "      <td>-6.635</td>\n",
       "      <td>378.551</td>\n",
       "      <td>-2.331</td>\n",
       "      <td>0.744</td>\n",
       "      <td>79.989</td>\n",
       "      <td>-9.160</td>\n",
       "      <td>-56.7627</td>\n",
       "    </tr>\n",
       "    <tr>\n",
       "      <th>12</th>\n",
       "      <td>2-PG</td>\n",
       "      <td>70</td>\n",
       "      <td>1.845098</td>\n",
       "      <td>4.14</td>\n",
       "      <td>-2</td>\n",
       "      <td>-4.929</td>\n",
       "      <td>330.507</td>\n",
       "      <td>-1.991</td>\n",
       "      <td>0.200</td>\n",
       "      <td>70.563</td>\n",
       "      <td>-9.502</td>\n",
       "      <td>-50.7333</td>\n",
       "    </tr>\n",
       "    <tr>\n",
       "      <th>13</th>\n",
       "      <td>AEA</td>\n",
       "      <td>111</td>\n",
       "      <td>2.045323</td>\n",
       "      <td>4.94</td>\n",
       "      <td>-2</td>\n",
       "      <td>-5.412</td>\n",
       "      <td>347.540</td>\n",
       "      <td>-1.434</td>\n",
       "      <td>0.435</td>\n",
       "      <td>54.990</td>\n",
       "      <td>-9.527</td>\n",
       "      <td>-51.0070</td>\n",
       "    </tr>\n",
       "    <tr>\n",
       "      <th>14</th>\n",
       "      <td>DHEA</td>\n",
       "      <td>163</td>\n",
       "      <td>2.212188</td>\n",
       "      <td>5.17</td>\n",
       "      <td>-2</td>\n",
       "      <td>-4.395</td>\n",
       "      <td>371.562</td>\n",
       "      <td>-1.372</td>\n",
       "      <td>0.574</td>\n",
       "      <td>58.761</td>\n",
       "      <td>-9.415</td>\n",
       "      <td>-54.6380</td>\n",
       "    </tr>\n",
       "    <tr>\n",
       "      <th>15</th>\n",
       "      <td>SCPI1</td>\n",
       "      <td>350</td>\n",
       "      <td>2.544068</td>\n",
       "      <td>4.53</td>\n",
       "      <td>1</td>\n",
       "      <td>-6.470</td>\n",
       "      <td>378.275</td>\n",
       "      <td>0.024</td>\n",
       "      <td>0.503</td>\n",
       "      <td>58.049</td>\n",
       "      <td>-8.925</td>\n",
       "      <td>-43.9896</td>\n",
       "    </tr>\n",
       "    <tr>\n",
       "      <th>16</th>\n",
       "      <td>EPEA</td>\n",
       "      <td>390</td>\n",
       "      <td>2.591065</td>\n",
       "      <td>4.62</td>\n",
       "      <td>-2</td>\n",
       "      <td>-4.646</td>\n",
       "      <td>345.524</td>\n",
       "      <td>-1.397</td>\n",
       "      <td>0.372</td>\n",
       "      <td>59.151</td>\n",
       "      <td>-8.781</td>\n",
       "      <td>-48.6556</td>\n",
       "    </tr>\n",
       "    <tr>\n",
       "      <th>17</th>\n",
       "      <td>SCPI-3</td>\n",
       "      <td>900</td>\n",
       "      <td>2.954243</td>\n",
       "      <td>2.77</td>\n",
       "      <td>-1</td>\n",
       "      <td>-4.341</td>\n",
       "      <td>364.155</td>\n",
       "      <td>-0.761</td>\n",
       "      <td>0.154</td>\n",
       "      <td>86.775</td>\n",
       "      <td>-8.100</td>\n",
       "      <td>-40.1747</td>\n",
       "    </tr>\n",
       "  </tbody>\n",
       "</table>\n",
       "</div>"
      ],
      "text/plain": [
       "   ligand name  Ki(nm)   Log(Ki)  Log(O/W)  CNS  QPlogS   mol_MW  QPlogBB  \\\n",
       "0          THC    1000  3.000000      5.64    0  -6.672  314.467   -0.103   \n",
       "1          CBD     167  2.222716      5.38    0  -6.155  314.467   -0.474   \n",
       "2   BMS-309403      21  1.322219      5.64   -1  -7.770  474.558   -0.873   \n",
       "3       AM-404      29  1.462398      6.87   -2  -8.354  395.584   -1.669   \n",
       "4        SCPI4      33  1.518514      4.47    2  -5.339  363.550    0.585   \n",
       "5        VDM11      37  1.568202      7.14   -2  -8.041  409.611   -1.572   \n",
       "6       OMDM-2      40  1.602060      5.51   -2  -5.904  431.657   -2.188   \n",
       "7       OMDM-1      40  1.602060      5.51   -2  -6.275  431.657   -2.111   \n",
       "8         2-OG      40  1.602060      4.86   -2  -5.596  356.545   -2.210   \n",
       "9          OEA      43  1.633468      4.46   -2  -4.708  325.534   -1.489   \n",
       "10     JWH-018      58  1.763428      6.17    0  -6.220  341.452   -0.078   \n",
       "11        2-AG      61  1.785330      5.34   -2  -6.635  378.551   -2.331   \n",
       "12        2-PG      70  1.845098      4.14   -2  -4.929  330.507   -1.991   \n",
       "13         AEA     111  2.045323      4.94   -2  -5.412  347.540   -1.434   \n",
       "14        DHEA     163  2.212188      5.17   -2  -4.395  371.562   -1.372   \n",
       "15       SCPI1     350  2.544068      4.53    1  -6.470  378.275    0.024   \n",
       "16        EPEA     390  2.591065      4.62   -2  -4.646  345.524   -1.397   \n",
       "17      SCPI-3     900  2.954243      2.77   -1  -4.341  364.155   -0.761   \n",
       "\n",
       "    QPlogKhsa     PSA     IFD   MMGBSA  \n",
       "0       1.225  25.949  -8.925 -47.6959  \n",
       "1       1.066  38.177  -9.419 -49.6266  \n",
       "2       1.479  74.587 -13.865 -62.9611  \n",
       "3       1.338  57.795 -12.450 -56.3212  \n",
       "4       0.365  28.937 -11.105      NaN  \n",
       "5       1.512  55.703 -11.534 -54.3661  \n",
       "6       0.564  77.057 -10.950 -59.7882  \n",
       "7       0.558  70.412 -10.905 -59.0270  \n",
       "8       0.497  77.892  -9.830 -48.6365  \n",
       "9       0.219  54.990  -9.810 -49.0593  \n",
       "10      1.200  24.030 -11.400 -50.8677  \n",
       "11      0.744  79.989  -9.160 -56.7627  \n",
       "12      0.200  70.563  -9.502 -50.7333  \n",
       "13      0.435  54.990  -9.527 -51.0070  \n",
       "14      0.574  58.761  -9.415 -54.6380  \n",
       "15      0.503  58.049  -8.925 -43.9896  \n",
       "16      0.372  59.151  -8.781 -48.6556  \n",
       "17      0.154  86.775  -8.100 -40.1747  "
      ]
     },
     "execution_count": 1,
     "metadata": {},
     "output_type": "execute_result"
    }
   ],
   "source": [
    "import pandas as pd\n",
    "import matplotlib.pyplot as plt\n",
    "from sklearn.model_selection import train_test_split\n",
    "from pandas.plotting import scatter_matrix\n",
    "from sklearn.impute import SimpleImputer\n",
    "import numpy as np\n",
    "\n",
    "fabp1 = pd.read_csv('FABP1.csv')\n",
    "fabp1.head(23)"
   ]
  },
  {
   "cell_type": "code",
   "execution_count": 2,
   "id": "440a0a32",
   "metadata": {},
   "outputs": [
    {
     "data": {
      "text/plain": [
       "(18, 12)"
      ]
     },
     "execution_count": 2,
     "metadata": {},
     "output_type": "execute_result"
    }
   ],
   "source": [
    "fabp1.shape"
   ]
  },
  {
   "cell_type": "code",
   "execution_count": 3,
   "id": "36a16816",
   "metadata": {},
   "outputs": [
    {
     "name": "stdout",
     "output_type": "stream",
     "text": [
      "<class 'pandas.core.frame.DataFrame'>\n",
      "RangeIndex: 18 entries, 0 to 17\n",
      "Data columns (total 12 columns):\n",
      " #   Column       Non-Null Count  Dtype  \n",
      "---  ------       --------------  -----  \n",
      " 0   ligand name  18 non-null     object \n",
      " 1   Ki(nm)       18 non-null     int64  \n",
      " 2   Log(Ki)      18 non-null     float64\n",
      " 3   Log(O/W)     18 non-null     float64\n",
      " 4   CNS          18 non-null     int64  \n",
      " 5   QPlogS       18 non-null     float64\n",
      " 6   mol_MW       18 non-null     float64\n",
      " 7   QPlogBB      18 non-null     float64\n",
      " 8   QPlogKhsa    18 non-null     float64\n",
      " 9   PSA          18 non-null     float64\n",
      " 10  IFD          18 non-null     float64\n",
      " 11  MMGBSA       17 non-null     float64\n",
      "dtypes: float64(9), int64(2), object(1)\n",
      "memory usage: 1.8+ KB\n"
     ]
    }
   ],
   "source": [
    "fabp1.info()"
   ]
  },
  {
   "cell_type": "code",
   "execution_count": 4,
   "id": "7b0cb9dd",
   "metadata": {},
   "outputs": [
    {
     "data": {
      "text/plain": [
       "Index(['ligand name', 'Ki(nm)', 'Log(Ki)', 'Log(O/W)', 'CNS', 'QPlogS',\n",
       "       'mol_MW', 'QPlogBB', 'QPlogKhsa', 'PSA', 'IFD', 'MMGBSA'],\n",
       "      dtype='object')"
      ]
     },
     "execution_count": 4,
     "metadata": {},
     "output_type": "execute_result"
    }
   ],
   "source": [
    "fabp1.columns"
   ]
  },
  {
   "cell_type": "code",
   "execution_count": 5,
   "id": "271339e6",
   "metadata": {},
   "outputs": [
    {
     "data": {
      "text/plain": [
       "array([ 0, -1, -2,  2,  1], dtype=int64)"
      ]
     },
     "execution_count": 5,
     "metadata": {},
     "output_type": "execute_result"
    }
   ],
   "source": [
    "fabp1[\"CNS\"].unique()"
   ]
  },
  {
   "cell_type": "code",
   "execution_count": 6,
   "id": "3cfd0cc9",
   "metadata": {},
   "outputs": [
    {
     "data": {
      "text/plain": [
       "-2    11\n",
       " 0     3\n",
       "-1     2\n",
       " 2     1\n",
       " 1     1\n",
       "Name: CNS, dtype: int64"
      ]
     },
     "execution_count": 6,
     "metadata": {},
     "output_type": "execute_result"
    }
   ],
   "source": [
    "fabp1[\"CNS\"].value_counts()"
   ]
  },
  {
   "cell_type": "code",
   "execution_count": 7,
   "id": "30743114",
   "metadata": {},
   "outputs": [
    {
     "data": {
      "text/html": [
       "<div>\n",
       "<style scoped>\n",
       "    .dataframe tbody tr th:only-of-type {\n",
       "        vertical-align: middle;\n",
       "    }\n",
       "\n",
       "    .dataframe tbody tr th {\n",
       "        vertical-align: top;\n",
       "    }\n",
       "\n",
       "    .dataframe thead th {\n",
       "        text-align: right;\n",
       "    }\n",
       "</style>\n",
       "<table border=\"1\" class=\"dataframe\">\n",
       "  <thead>\n",
       "    <tr style=\"text-align: right;\">\n",
       "      <th></th>\n",
       "      <th>Ki(nm)</th>\n",
       "      <th>Log(Ki)</th>\n",
       "      <th>Log(O/W)</th>\n",
       "      <th>CNS</th>\n",
       "      <th>QPlogS</th>\n",
       "      <th>mol_MW</th>\n",
       "      <th>QPlogBB</th>\n",
       "      <th>QPlogKhsa</th>\n",
       "      <th>PSA</th>\n",
       "      <th>IFD</th>\n",
       "      <th>MMGBSA</th>\n",
       "    </tr>\n",
       "  </thead>\n",
       "  <tbody>\n",
       "    <tr>\n",
       "      <th>count</th>\n",
       "      <td>18.000000</td>\n",
       "      <td>18.000000</td>\n",
       "      <td>18.000000</td>\n",
       "      <td>18.000000</td>\n",
       "      <td>18.000000</td>\n",
       "      <td>18.000000</td>\n",
       "      <td>18.000000</td>\n",
       "      <td>18.000000</td>\n",
       "      <td>18.000000</td>\n",
       "      <td>18.000000</td>\n",
       "      <td>17.000000</td>\n",
       "    </tr>\n",
       "    <tr>\n",
       "      <th>mean</th>\n",
       "      <td>197.388889</td>\n",
       "      <td>1.959691</td>\n",
       "      <td>5.175556</td>\n",
       "      <td>-1.166667</td>\n",
       "      <td>-5.992333</td>\n",
       "      <td>370.844222</td>\n",
       "      <td>-1.191333</td>\n",
       "      <td>0.722500</td>\n",
       "      <td>58.544833</td>\n",
       "      <td>-10.200167</td>\n",
       "      <td>-52.018265</td>\n",
       "    </tr>\n",
       "    <tr>\n",
       "      <th>std</th>\n",
       "      <td>294.301794</td>\n",
       "      <td>0.515953</td>\n",
       "      <td>1.005644</td>\n",
       "      <td>1.248529</td>\n",
       "      <td>1.212572</td>\n",
       "      <td>43.905241</td>\n",
       "      <td>0.883445</td>\n",
       "      <td>0.455664</td>\n",
       "      <td>18.936785</td>\n",
       "      <td>1.471385</td>\n",
       "      <td>5.848448</td>\n",
       "    </tr>\n",
       "    <tr>\n",
       "      <th>min</th>\n",
       "      <td>21.000000</td>\n",
       "      <td>1.322219</td>\n",
       "      <td>2.770000</td>\n",
       "      <td>-2.000000</td>\n",
       "      <td>-8.354000</td>\n",
       "      <td>314.467000</td>\n",
       "      <td>-2.331000</td>\n",
       "      <td>0.154000</td>\n",
       "      <td>24.030000</td>\n",
       "      <td>-13.865000</td>\n",
       "      <td>-62.961100</td>\n",
       "    </tr>\n",
       "    <tr>\n",
       "      <th>25%</th>\n",
       "      <td>40.000000</td>\n",
       "      <td>1.602060</td>\n",
       "      <td>4.552500</td>\n",
       "      <td>-2.000000</td>\n",
       "      <td>-6.593750</td>\n",
       "      <td>342.470000</td>\n",
       "      <td>-1.910500</td>\n",
       "      <td>0.387750</td>\n",
       "      <td>54.990000</td>\n",
       "      <td>-11.066250</td>\n",
       "      <td>-56.321200</td>\n",
       "    </tr>\n",
       "    <tr>\n",
       "      <th>50%</th>\n",
       "      <td>59.500000</td>\n",
       "      <td>1.774379</td>\n",
       "      <td>5.255000</td>\n",
       "      <td>-2.000000</td>\n",
       "      <td>-6.029500</td>\n",
       "      <td>363.852500</td>\n",
       "      <td>-1.415500</td>\n",
       "      <td>0.561000</td>\n",
       "      <td>58.405000</td>\n",
       "      <td>-9.668500</td>\n",
       "      <td>-50.867700</td>\n",
       "    </tr>\n",
       "    <tr>\n",
       "      <th>75%</th>\n",
       "      <td>166.000000</td>\n",
       "      <td>2.220084</td>\n",
       "      <td>5.607500</td>\n",
       "      <td>-0.250000</td>\n",
       "      <td>-5.031500</td>\n",
       "      <td>391.325750</td>\n",
       "      <td>-0.545750</td>\n",
       "      <td>1.166500</td>\n",
       "      <td>73.581000</td>\n",
       "      <td>-9.223750</td>\n",
       "      <td>-48.655600</td>\n",
       "    </tr>\n",
       "    <tr>\n",
       "      <th>max</th>\n",
       "      <td>1000.000000</td>\n",
       "      <td>3.000000</td>\n",
       "      <td>7.140000</td>\n",
       "      <td>2.000000</td>\n",
       "      <td>-4.341000</td>\n",
       "      <td>474.558000</td>\n",
       "      <td>0.585000</td>\n",
       "      <td>1.512000</td>\n",
       "      <td>86.775000</td>\n",
       "      <td>-8.100000</td>\n",
       "      <td>-40.174700</td>\n",
       "    </tr>\n",
       "  </tbody>\n",
       "</table>\n",
       "</div>"
      ],
      "text/plain": [
       "            Ki(nm)    Log(Ki)   Log(O/W)        CNS     QPlogS      mol_MW  \\\n",
       "count    18.000000  18.000000  18.000000  18.000000  18.000000   18.000000   \n",
       "mean    197.388889   1.959691   5.175556  -1.166667  -5.992333  370.844222   \n",
       "std     294.301794   0.515953   1.005644   1.248529   1.212572   43.905241   \n",
       "min      21.000000   1.322219   2.770000  -2.000000  -8.354000  314.467000   \n",
       "25%      40.000000   1.602060   4.552500  -2.000000  -6.593750  342.470000   \n",
       "50%      59.500000   1.774379   5.255000  -2.000000  -6.029500  363.852500   \n",
       "75%     166.000000   2.220084   5.607500  -0.250000  -5.031500  391.325750   \n",
       "max    1000.000000   3.000000   7.140000   2.000000  -4.341000  474.558000   \n",
       "\n",
       "         QPlogBB  QPlogKhsa        PSA        IFD     MMGBSA  \n",
       "count  18.000000  18.000000  18.000000  18.000000  17.000000  \n",
       "mean   -1.191333   0.722500  58.544833 -10.200167 -52.018265  \n",
       "std     0.883445   0.455664  18.936785   1.471385   5.848448  \n",
       "min    -2.331000   0.154000  24.030000 -13.865000 -62.961100  \n",
       "25%    -1.910500   0.387750  54.990000 -11.066250 -56.321200  \n",
       "50%    -1.415500   0.561000  58.405000  -9.668500 -50.867700  \n",
       "75%    -0.545750   1.166500  73.581000  -9.223750 -48.655600  \n",
       "max     0.585000   1.512000  86.775000  -8.100000 -40.174700  "
      ]
     },
     "execution_count": 7,
     "metadata": {},
     "output_type": "execute_result"
    }
   ],
   "source": [
    "fabp1.describe()"
   ]
  },
  {
   "cell_type": "code",
   "execution_count": 8,
   "id": "e7cd219e",
   "metadata": {},
   "outputs": [
    {
     "data": {
      "image/png": "[encoded data removed]",
      "text/plain": [
       "<Figure size 1440x1080 with 12 Axes>"
      ]
     },
     "metadata": {
      "needs_background": "light"
     },
     "output_type": "display_data"
    }
   ],
   "source": [
    "fabp1.hist(bins=50, figsize=(20,15))\n",
    "plt.show()"
   ]
  },
  {
   "cell_type": "code",
   "execution_count": 9,
   "id": "60bfb8d1",
   "metadata": {},
   "outputs": [
    {
     "data": {
      "text/html": [
       "<div>\n",
       "<style scoped>\n",
       "    .dataframe tbody tr th:only-of-type {\n",
       "        vertical-align: middle;\n",
       "    }\n",
       "\n",
       "    .dataframe tbody tr th {\n",
       "        vertical-align: top;\n",
       "    }\n",
       "\n",
       "    .dataframe thead th {\n",
       "        text-align: right;\n",
       "    }\n",
       "</style>\n",
       "<table border=\"1\" class=\"dataframe\">\n",
       "  <thead>\n",
       "    <tr style=\"text-align: right;\">\n",
       "      <th></th>\n",
       "      <th>ligand name</th>\n",
       "      <th>Ki(nm)</th>\n",
       "      <th>Log(Ki)</th>\n",
       "      <th>Log(O/W)</th>\n",
       "      <th>CNS</th>\n",
       "      <th>QPlogS</th>\n",
       "      <th>mol_MW</th>\n",
       "      <th>QPlogBB</th>\n",
       "      <th>QPlogKhsa</th>\n",
       "      <th>PSA</th>\n",
       "      <th>IFD</th>\n",
       "      <th>MMGBSA</th>\n",
       "    </tr>\n",
       "  </thead>\n",
       "  <tbody>\n",
       "    <tr>\n",
       "      <th>8</th>\n",
       "      <td>2-OG</td>\n",
       "      <td>40</td>\n",
       "      <td>1.602060</td>\n",
       "      <td>4.86</td>\n",
       "      <td>-2</td>\n",
       "      <td>-5.596</td>\n",
       "      <td>356.545</td>\n",
       "      <td>-2.210</td>\n",
       "      <td>0.497</td>\n",
       "      <td>77.892</td>\n",
       "      <td>-9.830</td>\n",
       "      <td>-48.6365</td>\n",
       "    </tr>\n",
       "    <tr>\n",
       "      <th>2</th>\n",
       "      <td>BMS-309403</td>\n",
       "      <td>21</td>\n",
       "      <td>1.322219</td>\n",
       "      <td>5.64</td>\n",
       "      <td>-1</td>\n",
       "      <td>-7.770</td>\n",
       "      <td>474.558</td>\n",
       "      <td>-0.873</td>\n",
       "      <td>1.479</td>\n",
       "      <td>74.587</td>\n",
       "      <td>-13.865</td>\n",
       "      <td>-62.9611</td>\n",
       "    </tr>\n",
       "  </tbody>\n",
       "</table>\n",
       "</div>"
      ],
      "text/plain": [
       "  ligand name  Ki(nm)   Log(Ki)  Log(O/W)  CNS  QPlogS   mol_MW  QPlogBB  \\\n",
       "8        2-OG      40  1.602060      4.86   -2  -5.596  356.545   -2.210   \n",
       "2  BMS-309403      21  1.322219      5.64   -1  -7.770  474.558   -0.873   \n",
       "\n",
       "   QPlogKhsa     PSA     IFD   MMGBSA  \n",
       "8      0.497  77.892  -9.830 -48.6365  \n",
       "2      1.479  74.587 -13.865 -62.9611  "
      ]
     },
     "execution_count": 9,
     "metadata": {},
     "output_type": "execute_result"
    }
   ],
   "source": [
    "train_set, test_set= train_test_split(fabp1, test_size = 0.2, random_state=50)\n",
    "train_set.shape\n",
    "train_set.head(2)"
   ]
  },
  {
   "cell_type": "code",
   "execution_count": 10,
   "id": "889dad67",
   "metadata": {},
   "outputs": [],
   "source": [
    "data = train_set.copy()"
   ]
  },
  {
   "cell_type": "code",
   "execution_count": 11,
   "id": "e78d1b3e",
   "metadata": {},
   "outputs": [
    {
     "data": {
      "text/html": [
       "<div>\n",
       "<style scoped>\n",
       "    .dataframe tbody tr th:only-of-type {\n",
       "        vertical-align: middle;\n",
       "    }\n",
       "\n",
       "    .dataframe tbody tr th {\n",
       "        vertical-align: top;\n",
       "    }\n",
       "\n",
       "    .dataframe thead th {\n",
       "        text-align: right;\n",
       "    }\n",
       "</style>\n",
       "<table border=\"1\" class=\"dataframe\">\n",
       "  <thead>\n",
       "    <tr style=\"text-align: right;\">\n",
       "      <th></th>\n",
       "      <th>ligand name</th>\n",
       "      <th>Ki(nm)</th>\n",
       "      <th>Log(Ki)</th>\n",
       "      <th>Log(O/W)</th>\n",
       "      <th>CNS</th>\n",
       "      <th>QPlogS</th>\n",
       "      <th>mol_MW</th>\n",
       "      <th>QPlogBB</th>\n",
       "      <th>QPlogKhsa</th>\n",
       "      <th>PSA</th>\n",
       "      <th>IFD</th>\n",
       "      <th>MMGBSA</th>\n",
       "    </tr>\n",
       "  </thead>\n",
       "  <tbody>\n",
       "    <tr>\n",
       "      <th>8</th>\n",
       "      <td>2-OG</td>\n",
       "      <td>40</td>\n",
       "      <td>1.602060</td>\n",
       "      <td>4.86</td>\n",
       "      <td>-2</td>\n",
       "      <td>-5.596</td>\n",
       "      <td>356.545</td>\n",
       "      <td>-2.210</td>\n",
       "      <td>0.497</td>\n",
       "      <td>77.892</td>\n",
       "      <td>-9.830</td>\n",
       "      <td>-48.6365</td>\n",
       "    </tr>\n",
       "    <tr>\n",
       "      <th>2</th>\n",
       "      <td>BMS-309403</td>\n",
       "      <td>21</td>\n",
       "      <td>1.322219</td>\n",
       "      <td>5.64</td>\n",
       "      <td>-1</td>\n",
       "      <td>-7.770</td>\n",
       "      <td>474.558</td>\n",
       "      <td>-0.873</td>\n",
       "      <td>1.479</td>\n",
       "      <td>74.587</td>\n",
       "      <td>-13.865</td>\n",
       "      <td>-62.9611</td>\n",
       "    </tr>\n",
       "    <tr>\n",
       "      <th>7</th>\n",
       "      <td>OMDM-1</td>\n",
       "      <td>40</td>\n",
       "      <td>1.602060</td>\n",
       "      <td>5.51</td>\n",
       "      <td>-2</td>\n",
       "      <td>-6.275</td>\n",
       "      <td>431.657</td>\n",
       "      <td>-2.111</td>\n",
       "      <td>0.558</td>\n",
       "      <td>70.412</td>\n",
       "      <td>-10.905</td>\n",
       "      <td>-59.0270</td>\n",
       "    </tr>\n",
       "    <tr>\n",
       "      <th>10</th>\n",
       "      <td>JWH-018</td>\n",
       "      <td>58</td>\n",
       "      <td>1.763428</td>\n",
       "      <td>6.17</td>\n",
       "      <td>0</td>\n",
       "      <td>-6.220</td>\n",
       "      <td>341.452</td>\n",
       "      <td>-0.078</td>\n",
       "      <td>1.200</td>\n",
       "      <td>24.030</td>\n",
       "      <td>-11.400</td>\n",
       "      <td>-50.8677</td>\n",
       "    </tr>\n",
       "    <tr>\n",
       "      <th>9</th>\n",
       "      <td>OEA</td>\n",
       "      <td>43</td>\n",
       "      <td>1.633468</td>\n",
       "      <td>4.46</td>\n",
       "      <td>-2</td>\n",
       "      <td>-4.708</td>\n",
       "      <td>325.534</td>\n",
       "      <td>-1.489</td>\n",
       "      <td>0.219</td>\n",
       "      <td>54.990</td>\n",
       "      <td>-9.810</td>\n",
       "      <td>-49.0593</td>\n",
       "    </tr>\n",
       "  </tbody>\n",
       "</table>\n",
       "</div>"
      ],
      "text/plain": [
       "   ligand name  Ki(nm)   Log(Ki)  Log(O/W)  CNS  QPlogS   mol_MW  QPlogBB  \\\n",
       "8         2-OG      40  1.602060      4.86   -2  -5.596  356.545   -2.210   \n",
       "2   BMS-309403      21  1.322219      5.64   -1  -7.770  474.558   -0.873   \n",
       "7       OMDM-1      40  1.602060      5.51   -2  -6.275  431.657   -2.111   \n",
       "10     JWH-018      58  1.763428      6.17    0  -6.220  341.452   -0.078   \n",
       "9          OEA      43  1.633468      4.46   -2  -4.708  325.534   -1.489   \n",
       "\n",
       "    QPlogKhsa     PSA     IFD   MMGBSA  \n",
       "8       0.497  77.892  -9.830 -48.6365  \n",
       "2       1.479  74.587 -13.865 -62.9611  \n",
       "7       0.558  70.412 -10.905 -59.0270  \n",
       "10      1.200  24.030 -11.400 -50.8677  \n",
       "9       0.219  54.990  -9.810 -49.0593  "
      ]
     },
     "execution_count": 11,
     "metadata": {},
     "output_type": "execute_result"
    }
   ],
   "source": [
    "data.head()"
   ]
  },
  {
   "cell_type": "code",
   "execution_count": 12,
   "id": "3908f279",
   "metadata": {},
   "outputs": [
    {
     "data": {
      "text/plain": [
       "(14, 12)"
      ]
     },
     "execution_count": 12,
     "metadata": {},
     "output_type": "execute_result"
    },
    {
     "data": {
      "image/png": "[encoded data removed]",
      "text/plain": [
       "<Figure size 720x504 with 1 Axes>"
      ]
     },
     "metadata": {
      "needs_background": "light"
     },
     "output_type": "display_data"
    }
   ],
   "source": [
    "data.plot(kind=\"scatter\", x=\"Log(Ki)\", y=\"IFD\", figsize=(10,7))\n",
    "data.shape"
   ]
  },
  {
   "cell_type": "code",
   "execution_count": 13,
   "id": "f544bf44",
   "metadata": {},
   "outputs": [
    {
     "data": {
      "text/plain": [
       "<AxesSubplot:xlabel='Log(Ki)', ylabel='IFD'>"
      ]
     },
     "execution_count": 13,
     "metadata": {},
     "output_type": "execute_result"
    },
    {
     "data": {
      "image/png": "[encoded data removed]",
      "text/plain": [
       "<Figure size 720x504 with 1 Axes>"
      ]
     },
     "metadata": {
      "needs_background": "light"
     },
     "output_type": "display_data"
    }
   ],
   "source": [
    "data.plot(kind=\"scatter\", x=\"Log(Ki)\", y=\"IFD\",\n",
    "          s=data[\"Log(O/W)\"]*30, label=\"Log(O/W)\",\n",
    "          figsize=(10,7))"
   ]
  },
  {
   "cell_type": "code",
   "execution_count": 14,
   "id": "776a3817",
   "metadata": {
    "scrolled": true
   },
   "outputs": [
    {
     "data": {
      "text/plain": [
       "<AxesSubplot:xlabel='Log(Ki)', ylabel='IFD'>"
      ]
     },
     "execution_count": 14,
     "metadata": {},
     "output_type": "execute_result"
    },
    {
     "data": {
      "image/png": "[encoded data removed]",
      "text/plain": [
       "<Figure size 720x504 with 2 Axes>"
      ]
     },
     "metadata": {
      "needs_background": "light"
     },
     "output_type": "display_data"
    }
   ],
   "source": [
    "data.plot(kind=\"scatter\", x=\"Log(Ki)\", y=\"IFD\",\n",
    "          s=data[\"Log(O/W)\"]*30, label=\"Log(O/W)\",\n",
    "          c=data[\"MMGBSA\"], cmap=plt.get_cmap(\"jet\"),\n",
    "          figsize=(10,7))"
   ]
  },
  {
   "cell_type": "code",
   "execution_count": 15,
   "id": "9c5c12b2",
   "metadata": {},
   "outputs": [
    {
     "data": {
      "text/plain": [
       "<AxesSubplot:xlabel='Log(Ki)', ylabel='IFD'>"
      ]
     },
     "execution_count": 15,
     "metadata": {},
     "output_type": "execute_result"
    },
    {
     "data": {
      "image/png": "[encoded data removed]",
      "text/plain": [
       "<Figure size 720x504 with 2 Axes>"
      ]
     },
     "metadata": {
      "needs_background": "light"
     },
     "output_type": "display_data"
    }
   ],
   "source": [
    "data.plot(kind=\"scatter\", x=\"Log(Ki)\", y=\"IFD\",\n",
    "          s=data[\"MMGBSA\"]*-5, label=\"MMGBSA\",\n",
    "          c=data[\"Log(O/W)\"], cmap=plt.get_cmap(\"jet\"),\n",
    "          figsize=(10,7))"
   ]
  },
  {
   "cell_type": "code",
   "execution_count": null,
   "id": "52744083",
   "metadata": {},
   "outputs": [],
   "source": []
  },
  {
   "cell_type": "markdown",
   "id": "247be8af",
   "metadata": {},
   "source": [
    "# standard correlation coefficient"
   ]
  },
  {
   "cell_type": "code",
   "execution_count": 16,
   "id": "4391249f",
   "metadata": {},
   "outputs": [
    {
     "data": {
      "text/plain": [
       "Ki(nm)       1.000000\n",
       "Log(Ki)      0.893460\n",
       "IFD          0.513183\n",
       "MMGBSA       0.499429\n",
       "QPlogBB      0.378967\n",
       "CNS          0.268121\n",
       "QPlogKhsa    0.149008\n",
       "QPlogS      -0.009365\n",
       "Log(O/W)    -0.061568\n",
       "PSA         -0.427287\n",
       "mol_MW      -0.446462\n",
       "Name: Ki(nm), dtype: float64"
      ]
     },
     "execution_count": 16,
     "metadata": {},
     "output_type": "execute_result"
    }
   ],
   "source": [
    "corr_matrix = data.corr()\n",
    "corr_matrix[\"Ki(nm)\"].sort_values(ascending=False)"
   ]
  },
  {
   "cell_type": "code",
   "execution_count": 17,
   "id": "f59e63f3",
   "metadata": {},
   "outputs": [
    {
     "data": {
      "text/plain": [
       "Log(Ki)      1.000000\n",
       "Ki(nm)       0.893460\n",
       "IFD          0.739703\n",
       "MMGBSA       0.698294\n",
       "QPlogBB      0.357022\n",
       "CNS          0.251723\n",
       "QPlogS       0.171928\n",
       "QPlogKhsa   -0.036628\n",
       "Log(O/W)    -0.208752\n",
       "PSA         -0.401947\n",
       "mol_MW      -0.589004\n",
       "Name: Log(Ki), dtype: float64"
      ]
     },
     "execution_count": 17,
     "metadata": {},
     "output_type": "execute_result"
    }
   ],
   "source": [
    "corr_matrix[\"Log(Ki)\"].sort_values(ascending=False)"
   ]
  },
  {
   "cell_type": "code",
   "execution_count": 18,
   "id": "72c6c806",
   "metadata": {},
   "outputs": [
    {
     "data": {
      "image/png": "[encoded data removed]",
      "text/plain": [
       "<Figure size 1080x720 with 36 Axes>"
      ]
     },
     "metadata": {
      "needs_background": "light"
     },
     "output_type": "display_data"
    }
   ],
   "source": [
    "features = [\"Log(Ki)\", \"IFD\", \"MMGBSA\", \"Log(O/W)\", \"mol_MW\", \"PSA\" ]\n",
    "scatter_matrix(data[features], figsize=(15,10), alpha=1)\n",
    "plt.show()"
   ]
  },
  {
   "cell_type": "code",
   "execution_count": 19,
   "id": "433699fa",
   "metadata": {},
   "outputs": [
    {
     "data": {
      "image/png": "[encoded data removed]",
      "text/plain": [
       "<Figure size 720x504 with 1 Axes>"
      ]
     },
     "metadata": {
      "needs_background": "light"
     },
     "output_type": "display_data"
    }
   ],
   "source": [
    "data.plot(kind=\"scatter\", x=\"Log(Ki)\", y=\"IFD\", figsize=(10,7), alpha=1)\n",
    "plt.show()"
   ]
  },
  {
   "cell_type": "code",
   "execution_count": 20,
   "id": "39d73c60",
   "metadata": {},
   "outputs": [],
   "source": [
    "data[\"Log(O/W)_per_mol_MW\"] = data[\"Log(O/W)\"]/data[\"mol_MW\"]\n",
    "data[\"PSA_per_mol_MW\"] = data[\"PSA\"]/data[\"mol_MW\"]\n",
    "data[\"QPlogBB_per_Log(O/W)\"] = data[\"QPlogBB\"]/data[\"Log(O/W)\"]"
   ]
  },
  {
   "cell_type": "code",
   "execution_count": 21,
   "id": "cc3b0906",
   "metadata": {},
   "outputs": [
    {
     "data": {
      "text/html": [
       "<div>\n",
       "<style scoped>\n",
       "    .dataframe tbody tr th:only-of-type {\n",
       "        vertical-align: middle;\n",
       "    }\n",
       "\n",
       "    .dataframe tbody tr th {\n",
       "        vertical-align: top;\n",
       "    }\n",
       "\n",
       "    .dataframe thead th {\n",
       "        text-align: right;\n",
       "    }\n",
       "</style>\n",
       "<table border=\"1\" class=\"dataframe\">\n",
       "  <thead>\n",
       "    <tr style=\"text-align: right;\">\n",
       "      <th></th>\n",
       "      <th>ligand name</th>\n",
       "      <th>Ki(nm)</th>\n",
       "      <th>Log(Ki)</th>\n",
       "      <th>Log(O/W)</th>\n",
       "      <th>CNS</th>\n",
       "      <th>QPlogS</th>\n",
       "      <th>mol_MW</th>\n",
       "      <th>QPlogBB</th>\n",
       "      <th>QPlogKhsa</th>\n",
       "      <th>PSA</th>\n",
       "      <th>IFD</th>\n",
       "      <th>MMGBSA</th>\n",
       "      <th>Log(O/W)_per_mol_MW</th>\n",
       "      <th>PSA_per_mol_MW</th>\n",
       "      <th>QPlogBB_per_Log(O/W)</th>\n",
       "    </tr>\n",
       "  </thead>\n",
       "  <tbody>\n",
       "    <tr>\n",
       "      <th>8</th>\n",
       "      <td>2-OG</td>\n",
       "      <td>40</td>\n",
       "      <td>1.602060</td>\n",
       "      <td>4.86</td>\n",
       "      <td>-2</td>\n",
       "      <td>-5.596</td>\n",
       "      <td>356.545</td>\n",
       "      <td>-2.210</td>\n",
       "      <td>0.497</td>\n",
       "      <td>77.892</td>\n",
       "      <td>-9.830</td>\n",
       "      <td>-48.6365</td>\n",
       "      <td>0.013631</td>\n",
       "      <td>0.218463</td>\n",
       "      <td>-0.454733</td>\n",
       "    </tr>\n",
       "    <tr>\n",
       "      <th>2</th>\n",
       "      <td>BMS-309403</td>\n",
       "      <td>21</td>\n",
       "      <td>1.322219</td>\n",
       "      <td>5.64</td>\n",
       "      <td>-1</td>\n",
       "      <td>-7.770</td>\n",
       "      <td>474.558</td>\n",
       "      <td>-0.873</td>\n",
       "      <td>1.479</td>\n",
       "      <td>74.587</td>\n",
       "      <td>-13.865</td>\n",
       "      <td>-62.9611</td>\n",
       "      <td>0.011885</td>\n",
       "      <td>0.157172</td>\n",
       "      <td>-0.154787</td>\n",
       "    </tr>\n",
       "    <tr>\n",
       "      <th>7</th>\n",
       "      <td>OMDM-1</td>\n",
       "      <td>40</td>\n",
       "      <td>1.602060</td>\n",
       "      <td>5.51</td>\n",
       "      <td>-2</td>\n",
       "      <td>-6.275</td>\n",
       "      <td>431.657</td>\n",
       "      <td>-2.111</td>\n",
       "      <td>0.558</td>\n",
       "      <td>70.412</td>\n",
       "      <td>-10.905</td>\n",
       "      <td>-59.0270</td>\n",
       "      <td>0.012765</td>\n",
       "      <td>0.163120</td>\n",
       "      <td>-0.383122</td>\n",
       "    </tr>\n",
       "    <tr>\n",
       "      <th>10</th>\n",
       "      <td>JWH-018</td>\n",
       "      <td>58</td>\n",
       "      <td>1.763428</td>\n",
       "      <td>6.17</td>\n",
       "      <td>0</td>\n",
       "      <td>-6.220</td>\n",
       "      <td>341.452</td>\n",
       "      <td>-0.078</td>\n",
       "      <td>1.200</td>\n",
       "      <td>24.030</td>\n",
       "      <td>-11.400</td>\n",
       "      <td>-50.8677</td>\n",
       "      <td>0.018070</td>\n",
       "      <td>0.070376</td>\n",
       "      <td>-0.012642</td>\n",
       "    </tr>\n",
       "    <tr>\n",
       "      <th>9</th>\n",
       "      <td>OEA</td>\n",
       "      <td>43</td>\n",
       "      <td>1.633468</td>\n",
       "      <td>4.46</td>\n",
       "      <td>-2</td>\n",
       "      <td>-4.708</td>\n",
       "      <td>325.534</td>\n",
       "      <td>-1.489</td>\n",
       "      <td>0.219</td>\n",
       "      <td>54.990</td>\n",
       "      <td>-9.810</td>\n",
       "      <td>-49.0593</td>\n",
       "      <td>0.013701</td>\n",
       "      <td>0.168922</td>\n",
       "      <td>-0.333857</td>\n",
       "    </tr>\n",
       "  </tbody>\n",
       "</table>\n",
       "</div>"
      ],
      "text/plain": [
       "   ligand name  Ki(nm)   Log(Ki)  Log(O/W)  CNS  QPlogS   mol_MW  QPlogBB  \\\n",
       "8         2-OG      40  1.602060      4.86   -2  -5.596  356.545   -2.210   \n",
       "2   BMS-309403      21  1.322219      5.64   -1  -7.770  474.558   -0.873   \n",
       "7       OMDM-1      40  1.602060      5.51   -2  -6.275  431.657   -2.111   \n",
       "10     JWH-018      58  1.763428      6.17    0  -6.220  341.452   -0.078   \n",
       "9          OEA      43  1.633468      4.46   -2  -4.708  325.534   -1.489   \n",
       "\n",
       "    QPlogKhsa     PSA     IFD   MMGBSA  Log(O/W)_per_mol_MW  PSA_per_mol_MW  \\\n",
       "8       0.497  77.892  -9.830 -48.6365             0.013631        0.218463   \n",
       "2       1.479  74.587 -13.865 -62.9611             0.011885        0.157172   \n",
       "7       0.558  70.412 -10.905 -59.0270             0.012765        0.163120   \n",
       "10      1.200  24.030 -11.400 -50.8677             0.018070        0.070376   \n",
       "9       0.219  54.990  -9.810 -49.0593             0.013701        0.168922   \n",
       "\n",
       "    QPlogBB_per_Log(O/W)  \n",
       "8              -0.454733  \n",
       "2              -0.154787  \n",
       "7              -0.383122  \n",
       "10             -0.012642  \n",
       "9              -0.333857  "
      ]
     },
     "execution_count": 21,
     "metadata": {},
     "output_type": "execute_result"
    }
   ],
   "source": [
    "data.head()"
   ]
  },
  {
   "cell_type": "code",
   "execution_count": 22,
   "id": "fb735760",
   "metadata": {},
   "outputs": [
    {
     "data": {
      "text/plain": [
       "Ki(nm)                  1.000000\n",
       "Log(Ki)                 0.893460\n",
       "IFD                     0.513183\n",
       "MMGBSA                  0.499429\n",
       "QPlogBB                 0.378967\n",
       "Log(O/W)_per_mol_MW     0.352875\n",
       "QPlogBB_per_Log(O/W)    0.344780\n",
       "CNS                     0.268121\n",
       "QPlogKhsa               0.149008\n",
       "QPlogS                 -0.009365\n",
       "Log(O/W)               -0.061568\n",
       "PSA_per_mol_MW         -0.348187\n",
       "PSA                    -0.427287\n",
       "mol_MW                 -0.446462\n",
       "Name: Ki(nm), dtype: float64"
      ]
     },
     "execution_count": 22,
     "metadata": {},
     "output_type": "execute_result"
    }
   ],
   "source": [
    "corr_matrix = data.corr()\n",
    "corr_matrix[\"Ki(nm)\"].sort_values(ascending=False)"
   ]
  },
  {
   "cell_type": "markdown",
   "id": "964500ac",
   "metadata": {},
   "source": [
    "### preparing the data"
   ]
  },
  {
   "cell_type": "code",
   "execution_count": 23,
   "id": "02fde0c9",
   "metadata": {},
   "outputs": [
    {
     "name": "stdout",
     "output_type": "stream",
     "text": [
      "<class 'pandas.core.frame.DataFrame'>\n",
      "Int64Index: 14 entries, 8 to 16\n",
      "Data columns (total 12 columns):\n",
      " #   Column       Non-Null Count  Dtype  \n",
      "---  ------       --------------  -----  \n",
      " 0   ligand name  14 non-null     object \n",
      " 1   Ki(nm)       14 non-null     int64  \n",
      " 2   Log(Ki)      14 non-null     float64\n",
      " 3   Log(O/W)     14 non-null     float64\n",
      " 4   CNS          14 non-null     int64  \n",
      " 5   QPlogS       14 non-null     float64\n",
      " 6   mol_MW       14 non-null     float64\n",
      " 7   QPlogBB      14 non-null     float64\n",
      " 8   QPlogKhsa    14 non-null     float64\n",
      " 9   PSA          14 non-null     float64\n",
      " 10  IFD          14 non-null     float64\n",
      " 11  MMGBSA       13 non-null     float64\n",
      "dtypes: float64(9), int64(2), object(1)\n",
      "memory usage: 1.4+ KB\n"
     ]
    }
   ],
   "source": [
    "df = train_set.copy()\n",
    "df_label=df[\"Log(Ki)\"].copy()\n",
    "df_num = df.drop(\"Log(Ki)\", axis=1)\n",
    "\n",
    "df.info()"
   ]
  },
  {
   "cell_type": "code",
   "execution_count": 24,
   "id": "ac09c228",
   "metadata": {},
   "outputs": [
    {
     "ename": "ValueError",
     "evalue": "Cannot use median strategy with non-numeric data:\ncould not convert string to float: '2-OG'",
     "output_type": "error",
     "traceback": [
      "\u001b[1;31m---------------------------------------------------------------------------\u001b[0m",
      "\u001b[1;31mValueError\u001b[0m                                Traceback (most recent call last)",
      "\u001b[1;32mC:\\Users\\MSMUNI~1\\AppData\\Local\\Temp/ipykernel_25888/1713322810.py\u001b[0m in \u001b[0;36m<module>\u001b[1;34m\u001b[0m\n\u001b[0;32m      1\u001b[0m \u001b[0mimputer\u001b[0m \u001b[1;33m=\u001b[0m\u001b[0mSimpleImputer\u001b[0m\u001b[1;33m(\u001b[0m\u001b[0mmissing_values\u001b[0m\u001b[1;33m=\u001b[0m\u001b[0mnp\u001b[0m\u001b[1;33m.\u001b[0m\u001b[0mnan\u001b[0m\u001b[1;33m,\u001b[0m \u001b[0mstrategy\u001b[0m\u001b[1;33m=\u001b[0m\u001b[1;34m'median'\u001b[0m\u001b[1;33m)\u001b[0m\u001b[1;33m\u001b[0m\u001b[1;33m\u001b[0m\u001b[0m\n\u001b[1;32m----> 2\u001b[1;33m \u001b[0mimputer\u001b[0m\u001b[1;33m.\u001b[0m\u001b[0mfit\u001b[0m\u001b[1;33m(\u001b[0m\u001b[0mdf_num\u001b[0m\u001b[1;33m)\u001b[0m\u001b[1;33m\u001b[0m\u001b[1;33m\u001b[0m\u001b[0m\n\u001b[0m",
      "\u001b[1;32m~\\anaconda3\\lib\\site-packages\\sklearn\\impute\\_base.py\u001b[0m in \u001b[0;36mfit\u001b[1;34m(self, X, y)\u001b[0m\n\u001b[0;32m    343\u001b[0m             )\n\u001b[0;32m    344\u001b[0m \u001b[1;33m\u001b[0m\u001b[0m\n\u001b[1;32m--> 345\u001b[1;33m         \u001b[0mX\u001b[0m \u001b[1;33m=\u001b[0m \u001b[0mself\u001b[0m\u001b[1;33m.\u001b[0m\u001b[0m_validate_input\u001b[0m\u001b[1;33m(\u001b[0m\u001b[0mX\u001b[0m\u001b[1;33m,\u001b[0m \u001b[0min_fit\u001b[0m\u001b[1;33m=\u001b[0m\u001b[1;32mTrue\u001b[0m\u001b[1;33m)\u001b[0m\u001b[1;33m\u001b[0m\u001b[1;33m\u001b[0m\u001b[0m\n\u001b[0m\u001b[0;32m    346\u001b[0m \u001b[1;33m\u001b[0m\u001b[0m\n\u001b[0;32m    347\u001b[0m         \u001b[1;31m# default fill_value is 0 for numerical input and \"missing_value\"\u001b[0m\u001b[1;33m\u001b[0m\u001b[1;33m\u001b[0m\u001b[0m\n",
      "\u001b[1;32m~\\anaconda3\\lib\\site-packages\\sklearn\\impute\\_base.py\u001b[0m in \u001b[0;36m_validate_input\u001b[1;34m(self, X, in_fit)\u001b[0m\n\u001b[0;32m    300\u001b[0m                     )\n\u001b[0;32m    301\u001b[0m                 )\n\u001b[1;32m--> 302\u001b[1;33m                 \u001b[1;32mraise\u001b[0m \u001b[0mnew_ve\u001b[0m \u001b[1;32mfrom\u001b[0m \u001b[1;32mNone\u001b[0m\u001b[1;33m\u001b[0m\u001b[1;33m\u001b[0m\u001b[0m\n\u001b[0m\u001b[0;32m    303\u001b[0m             \u001b[1;32melse\u001b[0m\u001b[1;33m:\u001b[0m\u001b[1;33m\u001b[0m\u001b[1;33m\u001b[0m\u001b[0m\n\u001b[0;32m    304\u001b[0m                 \u001b[1;32mraise\u001b[0m \u001b[0mve\u001b[0m\u001b[1;33m\u001b[0m\u001b[1;33m\u001b[0m\u001b[0m\n",
      "\u001b[1;31mValueError\u001b[0m: Cannot use median strategy with non-numeric data:\ncould not convert string to float: '2-OG'"
     ]
    }
   ],
   "source": [
    "imputer =SimpleImputer(missing_values=np.nan, strategy='median')\n",
    "imputer.fit(df_num)\n"
   ]
  },
  {
   "cell_type": "code",
   "execution_count": null,
   "id": "064d7436",
   "metadata": {},
   "outputs": [],
   "source": []
  }
 ],
 "metadata": {
  "kernelspec": {
   "display_name": "Python 3 (ipykernel)",
   "language": "python",
   "name": "python3"
  },
  "language_info": {
   "codemirror_mode": {
    "name": "ipython",
    "version": 3
   },
   "file_extension": ".py",
   "mimetype": "text/x-python",
   "name": "python",
   "nbconvert_exporter": "python",
   "pygments_lexer": "ipython3",
   "version": "3.9.7"
  }
 },
 "nbformat": 4,
 "nbformat_minor": 5
}
